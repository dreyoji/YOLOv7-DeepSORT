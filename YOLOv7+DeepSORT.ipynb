{
 "cells": [
  {
   "cell_type": "markdown",
   "metadata": {},
   "source": [
    "# **Introduction**\n",
    "\n",
    "In this activity, we will be updating our previous object detection model to YOLOv7 and integrating it with DeepSORT for optimization. The goal is to analyze the impact of the optimization algorithm on the model results and compare the performance of the updated models with the previous ones. We will be using the same dataset as before, but this time we will train the models using time frames ranging from 5 PM to 8 PM. We will be creating three versions of the model - **_small, medium, and large_ - and evaluating their performance using metrics such as F1 curve, P curve, mAP (mean average precision), accuracy, precision, and recall.**\n",
    "\n",
    "To ensure a fair comparison, we will use the same dataset for each model and evaluate their performance separately. We will create a confusion matrix for each model and compare their accuracy, precision, and recall. We will also visualize the training progress of each model using time series graphs."
   ]
  },
  {
   "cell_type": "markdown",
   "metadata": {},
   "source": [
    "## Import Libraries"
   ]
  },
  {
   "cell_type": "code",
   "execution_count": 1,
   "metadata": {},
   "outputs": [],
   "source": [
    "import torch                                    # For deep learning\n",
    "import os                                       # For operating system related tasks \n",
    "import urllib.request                           # For opening and reading URLs\n",
    "import glob                                     # For file handling\n",
    "import shutil                                   # For file operations\n",
    "from IPython.display import Image, clear_output # For displaying images and clearing the output"
   ]
  },
  {
   "cell_type": "code",
   "execution_count": 2,
   "metadata": {},
   "outputs": [
    {
     "name": "stdout",
     "output_type": "stream",
     "text": [
      "Setup complete. Using torch version: 2.1.2+cu118 on device: NVIDIA GeForce RTX 3060 Laptop GPU\n"
     ]
    }
   ],
   "source": [
    "# Determine the device that PyTorch is using\n",
    "device = torch.cuda.get_device_properties(0).name if torch.cuda.is_available() else 'CPU'\n",
    "\n",
    "# Print the setup information\n",
    "print(f\"Setup complete. Using torch version: {torch.__version__} on device: {device}\")"
   ]
  },
  {
   "cell_type": "markdown",
   "metadata": {},
   "source": [
    "## Download YOLOv7 repository and install requirements\n"
   ]
  },
  {
   "cell_type": "code",
   "execution_count": 3,
   "metadata": {},
   "outputs": [
    {
     "name": "stdout",
     "output_type": "stream",
     "text": [
      "c:\\Users\\Ryoji\\Documents\\Code\\M1- SA (YOLOv7 + DeepSORT)\\yolov7\n"
     ]
    },
    {
     "name": "stderr",
     "output_type": "stream",
     "text": [
      "Cloning into 'yolov7'...\n",
      "c:\\Users\\Ryoji\\AppData\\Local\\Programs\\Python\\Python311\\Lib\\site-packages\\IPython\\core\\magics\\osm.py:417: UserWarning: using dhist requires you to install the `pickleshare` library.\n",
      "  self.shell.db['dhist'] = compress_dhist(dhist)[-100:]\n"
     ]
    },
    {
     "name": "stdout",
     "output_type": "stream",
     "text": [
      "Requirement already satisfied: matplotlib>=3.2.2 in c:\\users\\ryoji\\appdata\\local\\programs\\python\\python311\\lib\\site-packages (from -r requirements.txt (line 4)) (3.8.2)\n",
      "Requirement already satisfied: numpy<1.24.0,>=1.18.5 in c:\\users\\ryoji\\appdata\\local\\programs\\python\\python311\\lib\\site-packages (from -r requirements.txt (line 5)) (1.23.5)\n",
      "Requirement already satisfied: opencv-python>=4.1.1 in c:\\users\\ryoji\\appdata\\local\\programs\\python\\python311\\lib\\site-packages (from -r requirements.txt (line 6)) (4.9.0.80)\n",
      "Requirement already satisfied: Pillow>=7.1.2 in c:\\users\\ryoji\\appdata\\local\\programs\\python\\python311\\lib\\site-packages (from -r requirements.txt (line 7)) (10.2.0)\n",
      "Requirement already satisfied: PyYAML>=5.3.1 in c:\\users\\ryoji\\appdata\\local\\programs\\python\\python311\\lib\\site-packages (from -r requirements.txt (line 8)) (6.0.1)\n",
      "Requirement already satisfied: requests>=2.23.0 in c:\\users\\ryoji\\appdata\\local\\programs\\python\\python311\\lib\\site-packages (from -r requirements.txt (line 9)) (2.31.0)\n",
      "Requirement already satisfied: scipy>=1.4.1 in c:\\users\\ryoji\\appdata\\local\\programs\\python\\python311\\lib\\site-packages (from -r requirements.txt (line 10)) (1.11.4)\n",
      "Requirement already satisfied: torch!=1.12.0,>=1.7.0 in c:\\users\\ryoji\\appdata\\local\\programs\\python\\python311\\lib\\site-packages (from -r requirements.txt (line 11)) (2.1.2+cu118)\n",
      "Requirement already satisfied: torchvision!=0.13.0,>=0.8.1 in c:\\users\\ryoji\\appdata\\local\\programs\\python\\python311\\lib\\site-packages (from -r requirements.txt (line 12)) (0.16.2+cu118)\n",
      "Requirement already satisfied: tqdm>=4.41.0 in c:\\users\\ryoji\\appdata\\local\\programs\\python\\python311\\lib\\site-packages (from -r requirements.txt (line 13)) (4.66.1)\n",
      "Requirement already satisfied: protobuf<4.21.3 in c:\\users\\ryoji\\appdata\\local\\programs\\python\\python311\\lib\\site-packages (from -r requirements.txt (line 14)) (4.21.2)\n",
      "Requirement already satisfied: tensorboard>=2.4.1 in c:\\users\\ryoji\\appdata\\local\\programs\\python\\python311\\lib\\site-packages (from -r requirements.txt (line 17)) (2.15.1)\n",
      "Requirement already satisfied: pandas>=1.1.4 in c:\\users\\ryoji\\appdata\\local\\programs\\python\\python311\\lib\\site-packages (from -r requirements.txt (line 21)) (2.1.4)\n",
      "Requirement already satisfied: seaborn>=0.11.0 in c:\\users\\ryoji\\appdata\\local\\programs\\python\\python311\\lib\\site-packages (from -r requirements.txt (line 22)) (0.13.1)\n",
      "Requirement already satisfied: ipython in c:\\users\\ryoji\\appdata\\local\\programs\\python\\python311\\lib\\site-packages (from -r requirements.txt (line 34)) (8.20.0)\n",
      "Requirement already satisfied: psutil in c:\\users\\ryoji\\appdata\\local\\programs\\python\\python311\\lib\\site-packages (from -r requirements.txt (line 35)) (5.9.7)\n",
      "Requirement already satisfied: thop in c:\\users\\ryoji\\appdata\\local\\programs\\python\\python311\\lib\\site-packages (from -r requirements.txt (line 36)) (0.1.1.post2209072238)\n",
      "Requirement already satisfied: contourpy>=1.0.1 in c:\\users\\ryoji\\appdata\\local\\programs\\python\\python311\\lib\\site-packages (from matplotlib>=3.2.2->-r requirements.txt (line 4)) (1.2.0)\n",
      "Requirement already satisfied: cycler>=0.10 in c:\\users\\ryoji\\appdata\\local\\programs\\python\\python311\\lib\\site-packages (from matplotlib>=3.2.2->-r requirements.txt (line 4)) (0.12.1)\n",
      "Requirement already satisfied: fonttools>=4.22.0 in c:\\users\\ryoji\\appdata\\local\\programs\\python\\python311\\lib\\site-packages (from matplotlib>=3.2.2->-r requirements.txt (line 4)) (4.46.0)\n",
      "Requirement already satisfied: kiwisolver>=1.3.1 in c:\\users\\ryoji\\appdata\\local\\programs\\python\\python311\\lib\\site-packages (from matplotlib>=3.2.2->-r requirements.txt (line 4)) (1.4.5)\n",
      "Requirement already satisfied: packaging>=20.0 in c:\\users\\ryoji\\appdata\\roaming\\python\\python311\\site-packages (from matplotlib>=3.2.2->-r requirements.txt (line 4)) (23.2)\n",
      "Requirement already satisfied: pyparsing>=2.3.1 in c:\\users\\ryoji\\appdata\\local\\programs\\python\\python311\\lib\\site-packages (from matplotlib>=3.2.2->-r requirements.txt (line 4)) (3.1.1)\n",
      "Requirement already satisfied: python-dateutil>=2.7 in c:\\users\\ryoji\\appdata\\roaming\\python\\python311\\site-packages (from matplotlib>=3.2.2->-r requirements.txt (line 4)) (2.8.2)\n",
      "Requirement already satisfied: charset-normalizer<4,>=2 in c:\\users\\ryoji\\appdata\\local\\programs\\python\\python311\\lib\\site-packages (from requests>=2.23.0->-r requirements.txt (line 9)) (3.3.2)\n",
      "Requirement already satisfied: idna<4,>=2.5 in c:\\users\\ryoji\\appdata\\local\\programs\\python\\python311\\lib\\site-packages (from requests>=2.23.0->-r requirements.txt (line 9)) (3.6)\n",
      "Requirement already satisfied: urllib3<3,>=1.21.1 in c:\\users\\ryoji\\appdata\\local\\programs\\python\\python311\\lib\\site-packages (from requests>=2.23.0->-r requirements.txt (line 9)) (2.1.0)\n",
      "Requirement already satisfied: certifi>=2017.4.17 in c:\\users\\ryoji\\appdata\\local\\programs\\python\\python311\\lib\\site-packages (from requests>=2.23.0->-r requirements.txt (line 9)) (2023.11.17)\n",
      "Requirement already satisfied: filelock in c:\\users\\ryoji\\appdata\\local\\programs\\python\\python311\\lib\\site-packages (from torch!=1.12.0,>=1.7.0->-r requirements.txt (line 11)) (3.13.1)\n",
      "Requirement already satisfied: typing-extensions in c:\\users\\ryoji\\appdata\\local\\programs\\python\\python311\\lib\\site-packages (from torch!=1.12.0,>=1.7.0->-r requirements.txt (line 11)) (4.9.0)\n",
      "Requirement already satisfied: sympy in c:\\users\\ryoji\\appdata\\local\\programs\\python\\python311\\lib\\site-packages (from torch!=1.12.0,>=1.7.0->-r requirements.txt (line 11)) (1.12)\n",
      "Requirement already satisfied: networkx in c:\\users\\ryoji\\appdata\\local\\programs\\python\\python311\\lib\\site-packages (from torch!=1.12.0,>=1.7.0->-r requirements.txt (line 11)) (3.2.1)\n",
      "Requirement already satisfied: jinja2 in c:\\users\\ryoji\\appdata\\local\\programs\\python\\python311\\lib\\site-packages (from torch!=1.12.0,>=1.7.0->-r requirements.txt (line 11)) (3.1.3)\n",
      "Requirement already satisfied: fsspec in c:\\users\\ryoji\\appdata\\local\\programs\\python\\python311\\lib\\site-packages (from torch!=1.12.0,>=1.7.0->-r requirements.txt (line 11)) (2023.12.2)\n",
      "Requirement already satisfied: colorama in c:\\users\\ryoji\\appdata\\roaming\\python\\python311\\site-packages (from tqdm>=4.41.0->-r requirements.txt (line 13)) (0.4.6)\n",
      "Requirement already satisfied: absl-py>=0.4 in c:\\users\\ryoji\\appdata\\local\\programs\\python\\python311\\lib\\site-packages (from tensorboard>=2.4.1->-r requirements.txt (line 17)) (2.0.0)\n",
      "Requirement already satisfied: grpcio>=1.48.2 in c:\\users\\ryoji\\appdata\\local\\programs\\python\\python311\\lib\\site-packages (from tensorboard>=2.4.1->-r requirements.txt (line 17)) (1.60.0)\n",
      "Requirement already satisfied: google-auth<3,>=1.6.3 in c:\\users\\ryoji\\appdata\\local\\programs\\python\\python311\\lib\\site-packages (from tensorboard>=2.4.1->-r requirements.txt (line 17)) (2.26.2)\n",
      "Requirement already satisfied: google-auth-oauthlib<2,>=0.5 in c:\\users\\ryoji\\appdata\\local\\programs\\python\\python311\\lib\\site-packages (from tensorboard>=2.4.1->-r requirements.txt (line 17)) (1.2.0)\n",
      "Requirement already satisfied: markdown>=2.6.8 in c:\\users\\ryoji\\appdata\\local\\programs\\python\\python311\\lib\\site-packages (from tensorboard>=2.4.1->-r requirements.txt (line 17)) (3.5.2)\n",
      "Requirement already satisfied: setuptools>=41.0.0 in c:\\users\\ryoji\\appdata\\local\\programs\\python\\python311\\lib\\site-packages (from tensorboard>=2.4.1->-r requirements.txt (line 17)) (65.5.0)\n",
      "Requirement already satisfied: six>1.9 in c:\\users\\ryoji\\appdata\\roaming\\python\\python311\\site-packages (from tensorboard>=2.4.1->-r requirements.txt (line 17)) (1.16.0)\n",
      "Requirement already satisfied: tensorboard-data-server<0.8.0,>=0.7.0 in c:\\users\\ryoji\\appdata\\local\\programs\\python\\python311\\lib\\site-packages (from tensorboard>=2.4.1->-r requirements.txt (line 17)) (0.7.2)\n",
      "Requirement already satisfied: werkzeug>=1.0.1 in c:\\users\\ryoji\\appdata\\local\\programs\\python\\python311\\lib\\site-packages (from tensorboard>=2.4.1->-r requirements.txt (line 17)) (3.0.1)\n",
      "Requirement already satisfied: pytz>=2020.1 in c:\\users\\ryoji\\appdata\\local\\programs\\python\\python311\\lib\\site-packages (from pandas>=1.1.4->-r requirements.txt (line 21)) (2023.3.post1)\n",
      "Requirement already satisfied: tzdata>=2022.1 in c:\\users\\ryoji\\appdata\\local\\programs\\python\\python311\\lib\\site-packages (from pandas>=1.1.4->-r requirements.txt (line 21)) (2023.3)\n",
      "Requirement already satisfied: decorator in c:\\users\\ryoji\\appdata\\roaming\\python\\python311\\site-packages (from ipython->-r requirements.txt (line 34)) (5.1.1)\n",
      "Requirement already satisfied: jedi>=0.16 in c:\\users\\ryoji\\appdata\\roaming\\python\\python311\\site-packages (from ipython->-r requirements.txt (line 34)) (0.19.1)\n",
      "Requirement already satisfied: matplotlib-inline in c:\\users\\ryoji\\appdata\\roaming\\python\\python311\\site-packages (from ipython->-r requirements.txt (line 34)) (0.1.6)\n",
      "Requirement already satisfied: prompt-toolkit<3.1.0,>=3.0.41 in c:\\users\\ryoji\\appdata\\roaming\\python\\python311\\site-packages (from ipython->-r requirements.txt (line 34)) (3.0.41)\n",
      "Requirement already satisfied: pygments>=2.4.0 in c:\\users\\ryoji\\appdata\\roaming\\python\\python311\\site-packages (from ipython->-r requirements.txt (line 34)) (2.16.1)\n",
      "Requirement already satisfied: stack-data in c:\\users\\ryoji\\appdata\\roaming\\python\\python311\\site-packages (from ipython->-r requirements.txt (line 34)) (0.6.3)\n",
      "Requirement already satisfied: traitlets>=5 in c:\\users\\ryoji\\appdata\\roaming\\python\\python311\\site-packages (from ipython->-r requirements.txt (line 34)) (5.13.0)\n",
      "Requirement already satisfied: cachetools<6.0,>=2.0.0 in c:\\users\\ryoji\\appdata\\local\\programs\\python\\python311\\lib\\site-packages (from google-auth<3,>=1.6.3->tensorboard>=2.4.1->-r requirements.txt (line 17)) (5.3.2)\n",
      "Requirement already satisfied: pyasn1-modules>=0.2.1 in c:\\users\\ryoji\\appdata\\local\\programs\\python\\python311\\lib\\site-packages (from google-auth<3,>=1.6.3->tensorboard>=2.4.1->-r requirements.txt (line 17)) (0.3.0)\n",
      "Requirement already satisfied: rsa<5,>=3.1.4 in c:\\users\\ryoji\\appdata\\local\\programs\\python\\python311\\lib\\site-packages (from google-auth<3,>=1.6.3->tensorboard>=2.4.1->-r requirements.txt (line 17)) (4.9)\n",
      "Requirement already satisfied: requests-oauthlib>=0.7.0 in c:\\users\\ryoji\\appdata\\local\\programs\\python\\python311\\lib\\site-packages (from google-auth-oauthlib<2,>=0.5->tensorboard>=2.4.1->-r requirements.txt (line 17)) (1.3.1)\n",
      "Requirement already satisfied: parso<0.9.0,>=0.8.3 in c:\\users\\ryoji\\appdata\\roaming\\python\\python311\\site-packages (from jedi>=0.16->ipython->-r requirements.txt (line 34)) (0.8.3)\n",
      "Requirement already satisfied: wcwidth in c:\\users\\ryoji\\appdata\\roaming\\python\\python311\\site-packages (from prompt-toolkit<3.1.0,>=3.0.41->ipython->-r requirements.txt (line 34)) (0.2.10)\n",
      "Requirement already satisfied: MarkupSafe>=2.1.1 in c:\\users\\ryoji\\appdata\\local\\programs\\python\\python311\\lib\\site-packages (from werkzeug>=1.0.1->tensorboard>=2.4.1->-r requirements.txt (line 17)) (2.1.3)\n",
      "Requirement already satisfied: executing>=1.2.0 in c:\\users\\ryoji\\appdata\\roaming\\python\\python311\\site-packages (from stack-data->ipython->-r requirements.txt (line 34)) (2.0.1)\n",
      "Requirement already satisfied: asttokens>=2.1.0 in c:\\users\\ryoji\\appdata\\roaming\\python\\python311\\site-packages (from stack-data->ipython->-r requirements.txt (line 34)) (2.4.1)\n",
      "Requirement already satisfied: pure-eval in c:\\users\\ryoji\\appdata\\roaming\\python\\python311\\site-packages (from stack-data->ipython->-r requirements.txt (line 34)) (0.2.2)\n",
      "Requirement already satisfied: mpmath>=0.19 in c:\\users\\ryoji\\appdata\\local\\programs\\python\\python311\\lib\\site-packages (from sympy->torch!=1.12.0,>=1.7.0->-r requirements.txt (line 11)) (1.3.0)\n",
      "Requirement already satisfied: pyasn1<0.6.0,>=0.4.6 in c:\\users\\ryoji\\appdata\\local\\programs\\python\\python311\\lib\\site-packages (from pyasn1-modules>=0.2.1->google-auth<3,>=1.6.3->tensorboard>=2.4.1->-r requirements.txt (line 17)) (0.5.1)\n",
      "Requirement already satisfied: oauthlib>=3.0.0 in c:\\users\\ryoji\\appdata\\local\\programs\\python\\python311\\lib\\site-packages (from requests-oauthlib>=0.7.0->google-auth-oauthlib<2,>=0.5->tensorboard>=2.4.1->-r requirements.txt (line 17)) (3.2.2)\n"
     ]
    }
   ],
   "source": [
    "# Download YOLOv7 repository and install requirements\n",
    "!git clone https://github.com/WongKinYiu/yolov7\n",
    "%cd yolov7\n",
    "!pip install -qr requirements.txt"
   ]
  },
  {
   "cell_type": "code",
   "execution_count": 6,
   "metadata": {},
   "outputs": [
    {
     "data": {
      "text/plain": [
       "('yolov7_training.pt', <http.client.HTTPMessage at 0x1ecea4c0850>)"
      ]
     },
     "execution_count": 6,
     "metadata": {},
     "output_type": "execute_result"
    }
   ],
   "source": [
    "# Get the weights file from the URL and save it to the current directory\n",
    "url = \"https://github.com/WongKinYiu/yolov7/releases/download/v0.1/yolov7_training.pt\"\n",
    "filename = \"yolov7_training.pt\"\n",
    "\n",
    "urllib.request.urlretrieve(url, filename)"
   ]
  },
  {
   "cell_type": "markdown",
   "metadata": {},
   "source": [
    "## Import Dataset (Robotflow)\n",
    "\n",
    "Roboflow offers an API to export datasets, and in this case, the YOLOv8 format is used at this [URL](https://app.roboflow.com/data-science-3-5kybl/helmet-detection-lcyce/1).\n",
    "\n",
    "![](https://i.imgur.com/ScfGIey.png)"
   ]
  },
  {
   "cell_type": "code",
   "execution_count": 6,
   "metadata": {},
   "outputs": [
    {
     "name": "stdout",
     "output_type": "stream",
     "text": [
      "Requirement already satisfied: roboflow in c:\\users\\ryoji\\appdata\\local\\programs\\python\\python311\\lib\\site-packages (1.1.23)\n",
      "Requirement already satisfied: certifi==2023.7.22 in c:\\users\\ryoji\\appdata\\local\\programs\\python\\python311\\lib\\site-packages (from roboflow) (2023.7.22)\n",
      "Requirement already satisfied: chardet==4.0.0 in c:\\users\\ryoji\\appdata\\local\\programs\\python\\python311\\lib\\site-packages (from roboflow) (4.0.0)\n",
      "Requirement already satisfied: cycler==0.10.0 in c:\\users\\ryoji\\appdata\\local\\programs\\python\\python311\\lib\\site-packages (from roboflow) (0.10.0)\n",
      "Requirement already satisfied: idna==2.10 in c:\\users\\ryoji\\appdata\\local\\programs\\python\\python311\\lib\\site-packages (from roboflow) (2.10)\n",
      "Requirement already satisfied: kiwisolver>=1.3.1 in c:\\users\\ryoji\\appdata\\local\\programs\\python\\python311\\lib\\site-packages (from roboflow) (1.4.5)\n",
      "Requirement already satisfied: matplotlib in c:\\users\\ryoji\\appdata\\local\\programs\\python\\python311\\lib\\site-packages (from roboflow) (3.8.2)\n",
      "Requirement already satisfied: numpy>=1.18.5 in c:\\users\\ryoji\\appdata\\local\\programs\\python\\python311\\lib\\site-packages (from roboflow) (1.23.5)\n",
      "Requirement already satisfied: opencv-python-headless==4.8.0.74 in c:\\users\\ryoji\\appdata\\local\\programs\\python\\python311\\lib\\site-packages (from roboflow) (4.8.0.74)\n",
      "Requirement already satisfied: Pillow>=7.1.2 in c:\\users\\ryoji\\appdata\\local\\programs\\python\\python311\\lib\\site-packages (from roboflow) (10.2.0)\n",
      "Requirement already satisfied: python-dateutil in c:\\users\\ryoji\\appdata\\roaming\\python\\python311\\site-packages (from roboflow) (2.8.2)\n",
      "Requirement already satisfied: python-dotenv in c:\\users\\ryoji\\appdata\\local\\programs\\python\\python311\\lib\\site-packages (from roboflow) (1.0.1)\n",
      "Requirement already satisfied: requests in c:\\users\\ryoji\\appdata\\local\\programs\\python\\python311\\lib\\site-packages (from roboflow) (2.31.0)\n",
      "Requirement already satisfied: six in c:\\users\\ryoji\\appdata\\roaming\\python\\python311\\site-packages (from roboflow) (1.16.0)\n",
      "Requirement already satisfied: urllib3>=1.26.6 in c:\\users\\ryoji\\appdata\\local\\programs\\python\\python311\\lib\\site-packages (from roboflow) (2.1.0)\n",
      "Requirement already satisfied: tqdm>=4.41.0 in c:\\users\\ryoji\\appdata\\local\\programs\\python\\python311\\lib\\site-packages (from roboflow) (4.66.1)\n",
      "Requirement already satisfied: PyYAML>=5.3.1 in c:\\users\\ryoji\\appdata\\local\\programs\\python\\python311\\lib\\site-packages (from roboflow) (6.0.1)\n",
      "Requirement already satisfied: requests-toolbelt in c:\\users\\ryoji\\appdata\\local\\programs\\python\\python311\\lib\\site-packages (from roboflow) (1.0.0)\n",
      "Requirement already satisfied: python-magic in c:\\users\\ryoji\\appdata\\local\\programs\\python\\python311\\lib\\site-packages (from roboflow) (0.4.27)\n",
      "Requirement already satisfied: colorama in c:\\users\\ryoji\\appdata\\roaming\\python\\python311\\site-packages (from tqdm>=4.41.0->roboflow) (0.4.6)\n",
      "Requirement already satisfied: contourpy>=1.0.1 in c:\\users\\ryoji\\appdata\\local\\programs\\python\\python311\\lib\\site-packages (from matplotlib->roboflow) (1.2.0)\n",
      "Requirement already satisfied: fonttools>=4.22.0 in c:\\users\\ryoji\\appdata\\local\\programs\\python\\python311\\lib\\site-packages (from matplotlib->roboflow) (4.46.0)\n",
      "Requirement already satisfied: packaging>=20.0 in c:\\users\\ryoji\\appdata\\roaming\\python\\python311\\site-packages (from matplotlib->roboflow) (23.2)\n",
      "Requirement already satisfied: pyparsing>=2.3.1 in c:\\users\\ryoji\\appdata\\local\\programs\\python\\python311\\lib\\site-packages (from matplotlib->roboflow) (3.1.1)\n",
      "Requirement already satisfied: charset-normalizer<4,>=2 in c:\\users\\ryoji\\appdata\\local\\programs\\python\\python311\\lib\\site-packages (from requests->roboflow) (3.3.2)\n",
      "loading Roboflow workspace...\n",
      "loading Roboflow project...\n"
     ]
    },
    {
     "name": "stderr",
     "output_type": "stream",
     "text": [
      "Downloading Dataset Version Zip in Helmet-Detection-1 to yolov7pytorch:: 100%|██████████| 31980/31980 [00:14<00:00, 2268.20it/s]"
     ]
    },
    {
     "name": "stdout",
     "output_type": "stream",
     "text": [
      "\n"
     ]
    },
    {
     "name": "stderr",
     "output_type": "stream",
     "text": [
      "\n",
      "Extracting Dataset Version Zip to Helmet-Detection-1 in yolov7pytorch:: 100%|██████████| 12971/12971 [00:23<00:00, 548.85it/s] \n"
     ]
    }
   ],
   "source": [
    "!pip install roboflow                       \n",
    "\n",
    "from roboflow import Roboflow                   # For downloading the dataset\n",
    "rf = Roboflow(api_key=\"weuUhM15xraEmLMEAiPU\")\n",
    "project = rf.workspace(\"data-science-3-5kybl\").project(\"helmet-detection-lcyce\")\n",
    "version = project.version(1)\n",
    "dataset = version.download(\"yolov7\")"
   ]
  },
  {
   "cell_type": "markdown",
   "metadata": {},
   "source": [
    "## Train YOLOv7 model with Tune Hyperparameters"
   ]
  },
  {
   "cell_type": "markdown",
   "metadata": {},
   "source": [
    "### A. Small Model"
   ]
  },
  {
   "cell_type": "code",
   "execution_count": null,
   "metadata": {},
   "outputs": [],
   "source": [
    "# Execute the training script with the downloaded dataset and the weights file we downloaded earlier\n",
    "!python train.py \\\n",
    "    --batch 64 \\\n",
    "    --epochs 50 \\\n",
    "    --img-size 640 \\\n",
    "    --data /yolov7/Helmet-Detection-1/data.yaml \\\n",
    "    --weights 'yolov7_training.pt' \\\n",
    "    --cache"
   ]
  },
  {
   "cell_type": "code",
   "execution_count": null,
   "metadata": {},
   "outputs": [],
   "source": [
    "# Execute evaluation\n",
    "!python detect.py \\\n",
    "    --weights runs/train/exp/weights/best.pt \\\n",
    "    --conf 0.1 \\\n",
    "    --source {dataset.location}/test/images"
   ]
  },
  {
   "cell_type": "code",
   "execution_count": null,
   "metadata": {},
   "outputs": [],
   "source": [
    "# Set maximum images to print\n",
    "limit = 10 \n",
    "\n",
    "# Loop through each image in the directory\n",
    "for i, imageName in enumerate(glob.glob('/content/yolov7/runs/detect/exp/*.jpg')):\n",
    "    if i >= limit: # Stop if limit is reached\n",
    "        break\n",
    "    display(Image(filename=imageName)) # Display image\n",
    "    print(\"\\n\")"
   ]
  },
  {
   "cell_type": "markdown",
   "metadata": {},
   "source": [
    "#### A.1. TensorFlow\n",
    "\n",
    "To monitor the training progress and visualize the logs, you can start TensorBoard and launch it after you have started training. The logs are saved in the `runs` folder."
   ]
  },
  {
   "cell_type": "code",
   "execution_count": null,
   "metadata": {},
   "outputs": [],
   "source": [
    "# Load the TensorBoard notebook extension\n",
    "%load_ext tensorboard\n",
    "\n",
    "# Start TensorBoard within the notebook using magics\n",
    "%tensorboard --logdir runs"
   ]
  },
  {
   "cell_type": "code",
   "execution_count": null,
   "metadata": {},
   "outputs": [],
   "source": [
    "%cd .."
   ]
  },
  {
   "cell_type": "markdown",
   "metadata": {},
   "source": [
    "#### A.2. DeepSort\n",
    "\n",
    "To detect and track objects in videos or live camera feeds combines with YOLOv7 model. This can be useful in various applications such as surveillance, autonomous vehicles, and object recognition."
   ]
  },
  {
   "cell_type": "code",
   "execution_count": null,
   "metadata": {},
   "outputs": [],
   "source": [
    "!git clone https://github.com/deshwalmahesh/yolov7-deepsort-tracking\n",
    "%cd yolov7-deepsort-tracking"
   ]
  },
  {
   "cell_type": "code",
   "execution_count": null,
   "metadata": {},
   "outputs": [],
   "source": [
    "# Copy the trained weights to the current directory and rename it\n",
    "source_file = '/content/yolov7/runs/train/exp/weights/best.pt'\n",
    "destination_file = '/content/yolov7x.pt'\n",
    "\n",
    "shutil.copy(source_file, destination_file)"
   ]
  },
  {
   "cell_type": "markdown",
   "metadata": {},
   "source": [
    "\n",
    "Ensure to modify the specified lines in the following Python files before executing this code:\n",
    "\n",
    "- Modify line 247 in yolov7-deepsort/tracking_helpers.py to set `classes = ['Full_Face','Half_Face','Invalid','No_Helmet','Rider']`.\n",
    "- Modify line 15 in yolov7-deepsort/data/coco.yml to set `classes = ['Full_Face','Half_Face','Invalid','No_Helmet','Rider']`, and; \n",
    "- Line 12 to set `nc: 5`.\n",
    "\n",
    "After making these changes, you can proceed with running the code."
   ]
  },
  {
   "cell_type": "code",
   "execution_count": null,
   "metadata": {},
   "outputs": [],
   "source": [
    "from detection_helpers import *                 # For detection related functions\n",
    "from tracking_helpers import *                  # For tracking related functions\n",
    "from bridge_wrapper import *                    # For bridge related functions\n",
    "from PIL import Image                           # For image processing "
   ]
  },
  {
   "cell_type": "code",
   "execution_count": null,
   "metadata": {},
   "outputs": [],
   "source": [
    "# Create a detector object\n",
    "detector = Detector() \n",
    "\n",
    "# Set the path to the trained model and load it to the detector object\n",
    "model_path = '/content/yolov7x.pt' \n",
    "detector.load_model(model_path)\n",
    "\n",
    "# If the result is a 3D array, convert it to an image using OpenCV\n",
    "if len(result.shape) == 3:  \n",
    "    result = Image.fromarray(cv2.cvtColor(result, cv2.COLOR_BGR2RGB))\n",
    "\n",
    "# Save the result image to a folder\n",
    "result.save('__path__')\n",
    "\n",
    "# Display the result image\n",
    "result"
   ]
  },
  {
   "cell_type": "code",
   "execution_count": null,
   "metadata": {},
   "outputs": [],
   "source": [
    "# Create a tracker object with the YOLOv7 model and the ReID model\n",
    "tracker = YOLOv7_DeepSORT(reID_model_path=\"/content/yolov7/yolov7-deepsort-tracking/deep_sort/model_weights/mars-small128.pb\", detector=detector)"
   ]
  },
  {
   "cell_type": "code",
   "execution_count": null,
   "metadata": {},
   "outputs": [],
   "source": [
    "# Track the video and save the result to a file\n",
    "tracker.track_video(\"__path__\", output_folder=\"__path__\", show_live=False, skip_frames=0, count_objects=True, verbose=2)\n"
   ]
  },
  {
   "cell_type": "markdown",
   "metadata": {},
   "source": [
    "### B. Medium Model"
   ]
  },
  {
   "cell_type": "code",
   "execution_count": null,
   "metadata": {},
   "outputs": [],
   "source": [
    "# Execute the training script again with the downloaded dataset but different weights file\n",
    "!python train.py \\\n",
    "    --batch 32 \\\n",
    "    --epochs 75 \\\n",
    "    --img-size 640 \\\n",
    "    --data /yolov7/Helmet-Detection-1/data.yaml \\\n",
    "    --weights 'yolov7_training.pt' \\\n",
    "    --cache"
   ]
  },
  {
   "cell_type": "code",
   "execution_count": null,
   "metadata": {},
   "outputs": [],
   "source": [
    "# Execute evaluation\n",
    "!python detect.py \\\n",
    "    --weights runs/train/exp/weights/best.pt \\\n",
    "    --conf 0.1 \\\n",
    "    --source {dataset.location}/test/images"
   ]
  },
  {
   "cell_type": "code",
   "execution_count": null,
   "metadata": {},
   "outputs": [],
   "source": [
    "# Set maximum images to print\n",
    "limit = 10 \n",
    "\n",
    "# Loop through each image in the directory\n",
    "for i, imageName in enumerate(glob.glob('/content/yolov7/runs/detect/exp/*.jpg')):\n",
    "    if i >= limit: # Stop if limit is reached\n",
    "        break\n",
    "    display(Image(filename=imageName)) # Display image\n",
    "    print(\"\\n\")"
   ]
  },
  {
   "cell_type": "markdown",
   "metadata": {},
   "source": [
    "#### B.1. TensorFlow\n",
    "\n",
    "To monitor the training progress and visualize the logs, you can start TensorBoard and launch it after you have started training. The logs are saved in the `runs` folder."
   ]
  },
  {
   "cell_type": "code",
   "execution_count": null,
   "metadata": {},
   "outputs": [],
   "source": [
    "# Load the TensorBoard notebook extension\n",
    "%load_ext tensorboard\n",
    "\n",
    "# Start TensorBoard within the notebook using magics\n",
    "%tensorboard --logdir runs"
   ]
  },
  {
   "cell_type": "code",
   "execution_count": null,
   "metadata": {},
   "outputs": [],
   "source": [
    "%cd .."
   ]
  },
  {
   "cell_type": "markdown",
   "metadata": {},
   "source": [
    "#### B.2. DeepSort\n",
    "\n",
    "To detect and track objects in videos or live camera feeds combines with YOLOv7 model. This can be useful in various applications such as surveillance, autonomous vehicles, and object recognition."
   ]
  },
  {
   "cell_type": "code",
   "execution_count": null,
   "metadata": {},
   "outputs": [],
   "source": [
    "# Copy the trained weights to the current directory and rename it\n",
    "source_file = '/content/yolov7/runs/train/exp/weights/best.pt'\n",
    "destination_file = '/content/yolov7x.pt'\n",
    "\n",
    "shutil.copy(source_file, destination_file)"
   ]
  }
 ],
 "metadata": {
  "kernelspec": {
   "display_name": "Python 3",
   "language": "python",
   "name": "python3"
  },
  "language_info": {
   "codemirror_mode": {
    "name": "ipython",
    "version": 3
   },
   "file_extension": ".py",
   "mimetype": "text/x-python",
   "name": "python",
   "nbconvert_exporter": "python",
   "pygments_lexer": "ipython3",
   "version": "3.11.6"
  }
 },
 "nbformat": 4,
 "nbformat_minor": 2
}
