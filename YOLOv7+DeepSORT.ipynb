{
 "cells": [
  {
   "cell_type": "markdown",
   "metadata": {},
   "source": [
    "# Introduction"
   ]
  },
  {
   "cell_type": "markdown",
   "metadata": {},
   "source": [
    "In this activity, we will be updating our previous object detection model to YOLOv7 and integrating it with DeepSORT for optimization. The goal is to analyze the impact of the optimization algorithm on the model results and compare the performance of the updated models with the previous ones. We will be using the same dataset as before, but this time we will train the models using time frames ranging from 5 PM to 8 PM. We will be creating three versions of the model - **small, medium, and large - and evaluating their performance using metrics such as F1 curve, P curve, mAP (mean average precision), accuracy, precision, and recall.**\n",
    "\n",
    "To ensure a fair comparison, we will use the same dataset for each model and evaluate their performance separately. We will create a confusion matrix for each model and compare their accuracy, precision, and recall. We will also visualize the training progress of each model using time series graphs."
   ]
  },
  {
   "cell_type": "markdown",
   "metadata": {},
   "source": [
    "### Importing Libraries"
   ]
  },
  {
   "cell_type": "code",
   "execution_count": 1,
   "metadata": {},
   "outputs": [],
   "source": [
    "import torch                                    # Importing the torch module for deep learning\n",
    "import os                                       # Importing the os module for operating system related tasks \n",
    "from IPython.display import Image, clear_output # Importing the Image and clear_output functions from IPython.display module\n",
    "import urllib.request                           # Importing the urllib.request module for opening and reading URLs         "
   ]
  },
  {
   "cell_type": "code",
   "execution_count": 2,
   "metadata": {},
   "outputs": [
    {
     "name": "stdout",
     "output_type": "stream",
     "text": [
      "Setup complete. Using torch version: 2.1.2+cu118 on device: NVIDIA GeForce RTX 3060 Laptop GPU\n"
     ]
    }
   ],
   "source": [
    "# Determine the device that PyTorch is using\n",
    "device = torch.cuda.get_device_properties(0).name if torch.cuda.is_available() else 'CPU'\n",
    "\n",
    "# Print the setup information\n",
    "print(f\"Setup complete. Using torch version: {torch.__version__} on device: {device}\")"
   ]
  },
  {
   "cell_type": "markdown",
   "metadata": {},
   "source": [
    "### Download YOLOv7 repository and install requirements\n"
   ]
  },
  {
   "cell_type": "code",
   "execution_count": 3,
   "metadata": {},
   "outputs": [
    {
     "name": "stdout",
     "output_type": "stream",
     "text": [
      "c:\\Users\\Ryoji\\Documents\\Code\\M1- SA (YOLOv7 + DeepSORT)\\yolov7\n"
     ]
    },
    {
     "name": "stderr",
     "output_type": "stream",
     "text": [
      "Cloning into 'yolov7'...\n",
      "c:\\Users\\Ryoji\\AppData\\Local\\Programs\\Python\\Python311\\Lib\\site-packages\\IPython\\core\\magics\\osm.py:417: UserWarning: using dhist requires you to install the `pickleshare` library.\n",
      "  self.shell.db['dhist'] = compress_dhist(dhist)[-100:]\n"
     ]
    },
    {
     "name": "stdout",
     "output_type": "stream",
     "text": [
      "Requirement already satisfied: matplotlib>=3.2.2 in c:\\users\\ryoji\\appdata\\local\\programs\\python\\python311\\lib\\site-packages (from -r requirements.txt (line 4)) (3.8.2)\n",
      "Requirement already satisfied: numpy<1.24.0,>=1.18.5 in c:\\users\\ryoji\\appdata\\local\\programs\\python\\python311\\lib\\site-packages (from -r requirements.txt (line 5)) (1.23.5)\n",
      "Requirement already satisfied: opencv-python>=4.1.1 in c:\\users\\ryoji\\appdata\\local\\programs\\python\\python311\\lib\\site-packages (from -r requirements.txt (line 6)) (4.9.0.80)\n",
      "Requirement already satisfied: Pillow>=7.1.2 in c:\\users\\ryoji\\appdata\\local\\programs\\python\\python311\\lib\\site-packages (from -r requirements.txt (line 7)) (10.2.0)\n",
      "Requirement already satisfied: PyYAML>=5.3.1 in c:\\users\\ryoji\\appdata\\local\\programs\\python\\python311\\lib\\site-packages (from -r requirements.txt (line 8)) (6.0.1)\n",
      "Requirement already satisfied: requests>=2.23.0 in c:\\users\\ryoji\\appdata\\local\\programs\\python\\python311\\lib\\site-packages (from -r requirements.txt (line 9)) (2.31.0)\n",
      "Requirement already satisfied: scipy>=1.4.1 in c:\\users\\ryoji\\appdata\\local\\programs\\python\\python311\\lib\\site-packages (from -r requirements.txt (line 10)) (1.11.4)\n",
      "Requirement already satisfied: torch!=1.12.0,>=1.7.0 in c:\\users\\ryoji\\appdata\\local\\programs\\python\\python311\\lib\\site-packages (from -r requirements.txt (line 11)) (2.1.2+cu118)\n",
      "Requirement already satisfied: torchvision!=0.13.0,>=0.8.1 in c:\\users\\ryoji\\appdata\\local\\programs\\python\\python311\\lib\\site-packages (from -r requirements.txt (line 12)) (0.16.2+cu118)\n",
      "Requirement already satisfied: tqdm>=4.41.0 in c:\\users\\ryoji\\appdata\\local\\programs\\python\\python311\\lib\\site-packages (from -r requirements.txt (line 13)) (4.66.1)\n",
      "Requirement already satisfied: protobuf<4.21.3 in c:\\users\\ryoji\\appdata\\local\\programs\\python\\python311\\lib\\site-packages (from -r requirements.txt (line 14)) (4.21.2)\n",
      "Requirement already satisfied: tensorboard>=2.4.1 in c:\\users\\ryoji\\appdata\\local\\programs\\python\\python311\\lib\\site-packages (from -r requirements.txt (line 17)) (2.15.1)\n",
      "Requirement already satisfied: pandas>=1.1.4 in c:\\users\\ryoji\\appdata\\local\\programs\\python\\python311\\lib\\site-packages (from -r requirements.txt (line 21)) (2.1.4)\n",
      "Requirement already satisfied: seaborn>=0.11.0 in c:\\users\\ryoji\\appdata\\local\\programs\\python\\python311\\lib\\site-packages (from -r requirements.txt (line 22)) (0.13.1)\n",
      "Requirement already satisfied: ipython in c:\\users\\ryoji\\appdata\\local\\programs\\python\\python311\\lib\\site-packages (from -r requirements.txt (line 34)) (8.20.0)\n",
      "Requirement already satisfied: psutil in c:\\users\\ryoji\\appdata\\local\\programs\\python\\python311\\lib\\site-packages (from -r requirements.txt (line 35)) (5.9.7)\n",
      "Requirement already satisfied: thop in c:\\users\\ryoji\\appdata\\local\\programs\\python\\python311\\lib\\site-packages (from -r requirements.txt (line 36)) (0.1.1.post2209072238)\n",
      "Requirement already satisfied: contourpy>=1.0.1 in c:\\users\\ryoji\\appdata\\local\\programs\\python\\python311\\lib\\site-packages (from matplotlib>=3.2.2->-r requirements.txt (line 4)) (1.2.0)\n",
      "Requirement already satisfied: cycler>=0.10 in c:\\users\\ryoji\\appdata\\local\\programs\\python\\python311\\lib\\site-packages (from matplotlib>=3.2.2->-r requirements.txt (line 4)) (0.12.1)\n",
      "Requirement already satisfied: fonttools>=4.22.0 in c:\\users\\ryoji\\appdata\\local\\programs\\python\\python311\\lib\\site-packages (from matplotlib>=3.2.2->-r requirements.txt (line 4)) (4.46.0)\n",
      "Requirement already satisfied: kiwisolver>=1.3.1 in c:\\users\\ryoji\\appdata\\local\\programs\\python\\python311\\lib\\site-packages (from matplotlib>=3.2.2->-r requirements.txt (line 4)) (1.4.5)\n",
      "Requirement already satisfied: packaging>=20.0 in c:\\users\\ryoji\\appdata\\roaming\\python\\python311\\site-packages (from matplotlib>=3.2.2->-r requirements.txt (line 4)) (23.2)\n",
      "Requirement already satisfied: pyparsing>=2.3.1 in c:\\users\\ryoji\\appdata\\local\\programs\\python\\python311\\lib\\site-packages (from matplotlib>=3.2.2->-r requirements.txt (line 4)) (3.1.1)\n",
      "Requirement already satisfied: python-dateutil>=2.7 in c:\\users\\ryoji\\appdata\\roaming\\python\\python311\\site-packages (from matplotlib>=3.2.2->-r requirements.txt (line 4)) (2.8.2)\n",
      "Requirement already satisfied: charset-normalizer<4,>=2 in c:\\users\\ryoji\\appdata\\local\\programs\\python\\python311\\lib\\site-packages (from requests>=2.23.0->-r requirements.txt (line 9)) (3.3.2)\n",
      "Requirement already satisfied: idna<4,>=2.5 in c:\\users\\ryoji\\appdata\\local\\programs\\python\\python311\\lib\\site-packages (from requests>=2.23.0->-r requirements.txt (line 9)) (3.6)\n",
      "Requirement already satisfied: urllib3<3,>=1.21.1 in c:\\users\\ryoji\\appdata\\local\\programs\\python\\python311\\lib\\site-packages (from requests>=2.23.0->-r requirements.txt (line 9)) (2.1.0)\n",
      "Requirement already satisfied: certifi>=2017.4.17 in c:\\users\\ryoji\\appdata\\local\\programs\\python\\python311\\lib\\site-packages (from requests>=2.23.0->-r requirements.txt (line 9)) (2023.11.17)\n",
      "Requirement already satisfied: filelock in c:\\users\\ryoji\\appdata\\local\\programs\\python\\python311\\lib\\site-packages (from torch!=1.12.0,>=1.7.0->-r requirements.txt (line 11)) (3.13.1)\n",
      "Requirement already satisfied: typing-extensions in c:\\users\\ryoji\\appdata\\local\\programs\\python\\python311\\lib\\site-packages (from torch!=1.12.0,>=1.7.0->-r requirements.txt (line 11)) (4.9.0)\n",
      "Requirement already satisfied: sympy in c:\\users\\ryoji\\appdata\\local\\programs\\python\\python311\\lib\\site-packages (from torch!=1.12.0,>=1.7.0->-r requirements.txt (line 11)) (1.12)\n",
      "Requirement already satisfied: networkx in c:\\users\\ryoji\\appdata\\local\\programs\\python\\python311\\lib\\site-packages (from torch!=1.12.0,>=1.7.0->-r requirements.txt (line 11)) (3.2.1)\n",
      "Requirement already satisfied: jinja2 in c:\\users\\ryoji\\appdata\\local\\programs\\python\\python311\\lib\\site-packages (from torch!=1.12.0,>=1.7.0->-r requirements.txt (line 11)) (3.1.3)\n",
      "Requirement already satisfied: fsspec in c:\\users\\ryoji\\appdata\\local\\programs\\python\\python311\\lib\\site-packages (from torch!=1.12.0,>=1.7.0->-r requirements.txt (line 11)) (2023.12.2)\n",
      "Requirement already satisfied: colorama in c:\\users\\ryoji\\appdata\\roaming\\python\\python311\\site-packages (from tqdm>=4.41.0->-r requirements.txt (line 13)) (0.4.6)\n",
      "Requirement already satisfied: absl-py>=0.4 in c:\\users\\ryoji\\appdata\\local\\programs\\python\\python311\\lib\\site-packages (from tensorboard>=2.4.1->-r requirements.txt (line 17)) (2.0.0)\n",
      "Requirement already satisfied: grpcio>=1.48.2 in c:\\users\\ryoji\\appdata\\local\\programs\\python\\python311\\lib\\site-packages (from tensorboard>=2.4.1->-r requirements.txt (line 17)) (1.60.0)\n",
      "Requirement already satisfied: google-auth<3,>=1.6.3 in c:\\users\\ryoji\\appdata\\local\\programs\\python\\python311\\lib\\site-packages (from tensorboard>=2.4.1->-r requirements.txt (line 17)) (2.26.2)\n",
      "Requirement already satisfied: google-auth-oauthlib<2,>=0.5 in c:\\users\\ryoji\\appdata\\local\\programs\\python\\python311\\lib\\site-packages (from tensorboard>=2.4.1->-r requirements.txt (line 17)) (1.2.0)\n",
      "Requirement already satisfied: markdown>=2.6.8 in c:\\users\\ryoji\\appdata\\local\\programs\\python\\python311\\lib\\site-packages (from tensorboard>=2.4.1->-r requirements.txt (line 17)) (3.5.2)\n",
      "Requirement already satisfied: setuptools>=41.0.0 in c:\\users\\ryoji\\appdata\\local\\programs\\python\\python311\\lib\\site-packages (from tensorboard>=2.4.1->-r requirements.txt (line 17)) (65.5.0)\n",
      "Requirement already satisfied: six>1.9 in c:\\users\\ryoji\\appdata\\roaming\\python\\python311\\site-packages (from tensorboard>=2.4.1->-r requirements.txt (line 17)) (1.16.0)\n",
      "Requirement already satisfied: tensorboard-data-server<0.8.0,>=0.7.0 in c:\\users\\ryoji\\appdata\\local\\programs\\python\\python311\\lib\\site-packages (from tensorboard>=2.4.1->-r requirements.txt (line 17)) (0.7.2)\n",
      "Requirement already satisfied: werkzeug>=1.0.1 in c:\\users\\ryoji\\appdata\\local\\programs\\python\\python311\\lib\\site-packages (from tensorboard>=2.4.1->-r requirements.txt (line 17)) (3.0.1)\n",
      "Requirement already satisfied: pytz>=2020.1 in c:\\users\\ryoji\\appdata\\local\\programs\\python\\python311\\lib\\site-packages (from pandas>=1.1.4->-r requirements.txt (line 21)) (2023.3.post1)\n",
      "Requirement already satisfied: tzdata>=2022.1 in c:\\users\\ryoji\\appdata\\local\\programs\\python\\python311\\lib\\site-packages (from pandas>=1.1.4->-r requirements.txt (line 21)) (2023.3)\n",
      "Requirement already satisfied: decorator in c:\\users\\ryoji\\appdata\\roaming\\python\\python311\\site-packages (from ipython->-r requirements.txt (line 34)) (5.1.1)\n",
      "Requirement already satisfied: jedi>=0.16 in c:\\users\\ryoji\\appdata\\roaming\\python\\python311\\site-packages (from ipython->-r requirements.txt (line 34)) (0.19.1)\n",
      "Requirement already satisfied: matplotlib-inline in c:\\users\\ryoji\\appdata\\roaming\\python\\python311\\site-packages (from ipython->-r requirements.txt (line 34)) (0.1.6)\n",
      "Requirement already satisfied: prompt-toolkit<3.1.0,>=3.0.41 in c:\\users\\ryoji\\appdata\\roaming\\python\\python311\\site-packages (from ipython->-r requirements.txt (line 34)) (3.0.41)\n",
      "Requirement already satisfied: pygments>=2.4.0 in c:\\users\\ryoji\\appdata\\roaming\\python\\python311\\site-packages (from ipython->-r requirements.txt (line 34)) (2.16.1)\n",
      "Requirement already satisfied: stack-data in c:\\users\\ryoji\\appdata\\roaming\\python\\python311\\site-packages (from ipython->-r requirements.txt (line 34)) (0.6.3)\n",
      "Requirement already satisfied: traitlets>=5 in c:\\users\\ryoji\\appdata\\roaming\\python\\python311\\site-packages (from ipython->-r requirements.txt (line 34)) (5.13.0)\n",
      "Requirement already satisfied: cachetools<6.0,>=2.0.0 in c:\\users\\ryoji\\appdata\\local\\programs\\python\\python311\\lib\\site-packages (from google-auth<3,>=1.6.3->tensorboard>=2.4.1->-r requirements.txt (line 17)) (5.3.2)\n",
      "Requirement already satisfied: pyasn1-modules>=0.2.1 in c:\\users\\ryoji\\appdata\\local\\programs\\python\\python311\\lib\\site-packages (from google-auth<3,>=1.6.3->tensorboard>=2.4.1->-r requirements.txt (line 17)) (0.3.0)\n",
      "Requirement already satisfied: rsa<5,>=3.1.4 in c:\\users\\ryoji\\appdata\\local\\programs\\python\\python311\\lib\\site-packages (from google-auth<3,>=1.6.3->tensorboard>=2.4.1->-r requirements.txt (line 17)) (4.9)\n",
      "Requirement already satisfied: requests-oauthlib>=0.7.0 in c:\\users\\ryoji\\appdata\\local\\programs\\python\\python311\\lib\\site-packages (from google-auth-oauthlib<2,>=0.5->tensorboard>=2.4.1->-r requirements.txt (line 17)) (1.3.1)\n",
      "Requirement already satisfied: parso<0.9.0,>=0.8.3 in c:\\users\\ryoji\\appdata\\roaming\\python\\python311\\site-packages (from jedi>=0.16->ipython->-r requirements.txt (line 34)) (0.8.3)\n",
      "Requirement already satisfied: wcwidth in c:\\users\\ryoji\\appdata\\roaming\\python\\python311\\site-packages (from prompt-toolkit<3.1.0,>=3.0.41->ipython->-r requirements.txt (line 34)) (0.2.10)\n",
      "Requirement already satisfied: MarkupSafe>=2.1.1 in c:\\users\\ryoji\\appdata\\local\\programs\\python\\python311\\lib\\site-packages (from werkzeug>=1.0.1->tensorboard>=2.4.1->-r requirements.txt (line 17)) (2.1.3)\n",
      "Requirement already satisfied: executing>=1.2.0 in c:\\users\\ryoji\\appdata\\roaming\\python\\python311\\site-packages (from stack-data->ipython->-r requirements.txt (line 34)) (2.0.1)\n",
      "Requirement already satisfied: asttokens>=2.1.0 in c:\\users\\ryoji\\appdata\\roaming\\python\\python311\\site-packages (from stack-data->ipython->-r requirements.txt (line 34)) (2.4.1)\n",
      "Requirement already satisfied: pure-eval in c:\\users\\ryoji\\appdata\\roaming\\python\\python311\\site-packages (from stack-data->ipython->-r requirements.txt (line 34)) (0.2.2)\n",
      "Requirement already satisfied: mpmath>=0.19 in c:\\users\\ryoji\\appdata\\local\\programs\\python\\python311\\lib\\site-packages (from sympy->torch!=1.12.0,>=1.7.0->-r requirements.txt (line 11)) (1.3.0)\n",
      "Requirement already satisfied: pyasn1<0.6.0,>=0.4.6 in c:\\users\\ryoji\\appdata\\local\\programs\\python\\python311\\lib\\site-packages (from pyasn1-modules>=0.2.1->google-auth<3,>=1.6.3->tensorboard>=2.4.1->-r requirements.txt (line 17)) (0.5.1)\n",
      "Requirement already satisfied: oauthlib>=3.0.0 in c:\\users\\ryoji\\appdata\\local\\programs\\python\\python311\\lib\\site-packages (from requests-oauthlib>=0.7.0->google-auth-oauthlib<2,>=0.5->tensorboard>=2.4.1->-r requirements.txt (line 17)) (3.2.2)\n"
     ]
    }
   ],
   "source": [
    "# Download YOLOv7 repository and install requirements\n",
    "!git clone https://github.com/WongKinYiu/yolov7\n",
    "%cd yolov7\n",
    "!pip install -qr requirements.txt"
   ]
  },
  {
   "cell_type": "code",
   "execution_count": 6,
   "metadata": {},
   "outputs": [
    {
     "data": {
      "text/plain": [
       "('yolov7_training.pt', <http.client.HTTPMessage at 0x1ecea4c0850>)"
      ]
     },
     "execution_count": 6,
     "metadata": {},
     "output_type": "execute_result"
    }
   ],
   "source": [
    "# Get the weights file from the URL and save it to the current directory\n",
    "url = \"https://github.com/WongKinYiu/yolov7/releases/download/v0.1/yolov7_training.pt\"\n",
    "filename = \"yolov7_training.pt\"\n",
    "\n",
    "urllib.request.urlretrieve(url, filename)"
   ]
  },
  {
   "cell_type": "markdown",
   "metadata": {},
   "source": [
    "### Import Robotflow Dataset"
   ]
  },
  {
   "cell_type": "code",
   "execution_count": null,
   "metadata": {},
   "outputs": [],
   "source": [
    "# Install and the roboflow package\n",
    "!pip install roboflow"
   ]
  },
  {
   "cell_type": "code",
   "execution_count": null,
   "metadata": {},
   "outputs": [],
   "source": [
    "from roboflow import Roboflow                   # Importing the Roboflow module from the roboflow package"
   ]
  }
 ],
 "metadata": {
  "kernelspec": {
   "display_name": "Python 3",
   "language": "python",
   "name": "python3"
  },
  "language_info": {
   "codemirror_mode": {
    "name": "ipython",
    "version": 3
   },
   "file_extension": ".py",
   "mimetype": "text/x-python",
   "name": "python",
   "nbconvert_exporter": "python",
   "pygments_lexer": "ipython3",
   "version": "3.11.6"
  }
 },
 "nbformat": 4,
 "nbformat_minor": 2
}
